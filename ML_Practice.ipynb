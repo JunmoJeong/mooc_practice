{
  "nbformat": 4,
  "nbformat_minor": 0,
  "metadata": {
    "colab": {
      "name": "ML_Practice.ipynb",
      "provenance": [],
      "authorship_tag": "ABX9TyMwP6LNcFhNYSl4u991KsdY",
      "include_colab_link": true
    },
    "kernelspec": {
      "name": "python3",
      "display_name": "Python 3"
    }
  },
  "cells": [
    {
      "cell_type": "markdown",
      "metadata": {
        "id": "view-in-github",
        "colab_type": "text"
      },
      "source": [
        "<a href=\"https://colab.research.google.com/github/JunmoJeong/mooc_practice/blob/main/ML_Practice.ipynb\" target=\"_parent\"><img src=\"https://colab.research.google.com/assets/colab-badge.svg\" alt=\"Open In Colab\"/></a>"
      ]
    },
    {
      "cell_type": "code",
      "metadata": {
        "id": "E-anObG8Am44",
        "colab": {
          "base_uri": "https://localhost:8080/"
        },
        "outputId": "b5ccb859-6ef7-45b8-e54a-8a4f0af34bab"
      },
      "source": [
        "print(\"hihihihi\")"
      ],
      "execution_count": null,
      "outputs": [
        {
          "output_type": "stream",
          "text": [
            "hihihihi\n"
          ],
          "name": "stdout"
        }
      ]
    },
    {
      "cell_type": "code",
      "metadata": {
        "id": "HMM5tO_AQZug"
      },
      "source": [
        "import numpy as np"
      ],
      "execution_count": null,
      "outputs": []
    },
    {
      "cell_type": "code",
      "metadata": {
        "id": "r0mTnBB6QZ72",
        "colab": {
          "base_uri": "https://localhost:8080/"
        },
        "outputId": "90412245-d68f-4df1-a8a0-7710358d3ee1"
      },
      "source": [
        "list1 = [1,2,3]\n",
        "array1 = np.array(list1)\n",
        "print(\"array1:\", array1)\n",
        "print(\"array1 type:\", type(array1))"
      ],
      "execution_count": null,
      "outputs": [
        {
          "output_type": "stream",
          "text": [
            "array1: [1 2 3]\n",
            "array1 type: <class 'numpy.ndarray'>\n"
          ],
          "name": "stdout"
        }
      ]
    },
    {
      "cell_type": "code",
      "metadata": {
        "id": "yGCORqXMQaJ2",
        "colab": {
          "base_uri": "https://localhost:8080/"
        },
        "outputId": "fe6d0f7a-8364-4183-af65-95d0744ca29c"
      },
      "source": [
        "array1 = np.array([1,2,3]) # 1차원\n",
        "array2 = np.array([[1,2,3],[2,3,4]]) # 2차원\n",
        "array3 = np.array([[1,2,3]]) # 2차원\n",
        "\n",
        "print(\"array1: {:0}차원, array2:{:1}차원, array3: {:2}차원\".format(array1.ndim, array2.ndim, array3.ndim))\n"
      ],
      "execution_count": null,
      "outputs": [
        {
          "output_type": "stream",
          "text": [
            "array1: 1차원, array2:2차원, array3:  2차원\n"
          ],
          "name": "stdout"
        }
      ]
    },
    {
      "cell_type": "code",
      "metadata": {
        "id": "BQdYL1eQ4Kw1"
      },
      "source": [
        "ㄹㄹ"
      ],
      "execution_count": null,
      "outputs": []
    },
    {
      "cell_type": "code",
      "metadata": {
        "id": "vlTysCWL4K2e"
      },
      "source": [
        ""
      ],
      "execution_count": null,
      "outputs": []
    },
    {
      "cell_type": "code",
      "metadata": {
        "id": "K3bAZNOc4K7B"
      },
      "source": [
        ""
      ],
      "execution_count": null,
      "outputs": []
    },
    {
      "cell_type": "code",
      "metadata": {
        "id": "Duj2MtBk4LAH"
      },
      "source": [
        ""
      ],
      "execution_count": null,
      "outputs": []
    },
    {
      "cell_type": "code",
      "metadata": {
        "id": "38O0Hjgp4LFB"
      },
      "source": [
        ""
      ],
      "execution_count": null,
      "outputs": []
    },
    {
      "cell_type": "code",
      "metadata": {
        "id": "8fQQZAy-4LJo"
      },
      "source": [
        ""
      ],
      "execution_count": null,
      "outputs": []
    },
    {
      "cell_type": "code",
      "metadata": {
        "id": "9ATkmBpq4LOZ"
      },
      "source": [
        ""
      ],
      "execution_count": null,
      "outputs": []
    },
    {
      "cell_type": "code",
      "metadata": {
        "id": "o2q-3B024LS8"
      },
      "source": [
        ""
      ],
      "execution_count": null,
      "outputs": []
    },
    {
      "cell_type": "code",
      "metadata": {
        "id": "lNkDfmv_4LYX"
      },
      "source": [
        ""
      ],
      "execution_count": null,
      "outputs": []
    },
    {
      "cell_type": "code",
      "metadata": {
        "id": "ag2xNY4A4Lcl"
      },
      "source": [
        ""
      ],
      "execution_count": null,
      "outputs": []
    },
    {
      "cell_type": "code",
      "metadata": {
        "id": "6Mtb53XR4Lgd"
      },
      "source": [
        ""
      ],
      "execution_count": null,
      "outputs": []
    }
  ]
}