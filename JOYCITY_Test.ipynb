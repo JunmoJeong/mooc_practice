{
  "nbformat": 4,
  "nbformat_minor": 0,
  "metadata": {
    "colab": {
      "name": "JOYCITY_Test.ipynb",
      "provenance": [],
      "mount_file_id": "1AbC50DKik6_Pveaq9Ex7VQoXx-nbI4Zx",
      "authorship_tag": "ABX9TyOw19YSnUncxKElLwqHt5+S",
      "include_colab_link": true
    },
    "kernelspec": {
      "name": "python3",
      "display_name": "Python 3"
    },
    "language_info": {
      "name": "python"
    },
    "accelerator": "TPU"
  },
  "cells": [
    {
      "cell_type": "markdown",
      "metadata": {
        "id": "view-in-github",
        "colab_type": "text"
      },
      "source": [
        "<a href=\"https://colab.research.google.com/github/JunmoJeong/mooc_practice/blob/main/JOYCITY_Test.ipynb\" target=\"_parent\"><img src=\"https://colab.research.google.com/assets/colab-badge.svg\" alt=\"Open In Colab\"/></a>"
      ]
    },
    {
      "cell_type": "code",
      "metadata": {
        "id": "Cg1KrZYmDIg8"
      },
      "source": [
        "import pandas as pd\n"
      ],
      "execution_count": 2,
      "outputs": []
    },
    {
      "cell_type": "code",
      "metadata": {
        "id": "LToK2QXbDrOJ"
      },
      "source": [
        "data = pd.read_csv(\"/content/drive/MyDrive/Junmo Jeong/Projects/JOYCITY/datascience_rawdata.csv\")"
      ],
      "execution_count": 3,
      "outputs": []
    },
    {
      "cell_type": "code",
      "metadata": {
        "colab": {
          "base_uri": "https://localhost:8080/",
          "height": 204
        },
        "id": "Q-SgzDqzFkG2",
        "outputId": "74e6d51b-c6d4-4213-829f-9050a75abf59"
      },
      "source": [
        "data.head()"
      ],
      "execution_count": 4,
      "outputs": [
        {
          "output_type": "execute_result",
          "data": {
            "text/html": [
              "<div>\n",
              "<style scoped>\n",
              "    .dataframe tbody tr th:only-of-type {\n",
              "        vertical-align: middle;\n",
              "    }\n",
              "\n",
              "    .dataframe tbody tr th {\n",
              "        vertical-align: top;\n",
              "    }\n",
              "\n",
              "    .dataframe thead th {\n",
              "        text-align: right;\n",
              "    }\n",
              "</style>\n",
              "<table border=\"1\" class=\"dataframe\">\n",
              "  <thead>\n",
              "    <tr style=\"text-align: right;\">\n",
              "      <th></th>\n",
              "      <th>days_after_registration</th>\n",
              "      <th>userid</th>\n",
              "      <th>userlevel</th>\n",
              "      <th>playtime_sec</th>\n",
              "      <th>sales</th>\n",
              "      <th>registration_date</th>\n",
              "      <th>country</th>\n",
              "      <th>source</th>\n",
              "      <th>marketing_cost_per_user</th>\n",
              "    </tr>\n",
              "  </thead>\n",
              "  <tbody>\n",
              "    <tr>\n",
              "      <th>0</th>\n",
              "      <td>0</td>\n",
              "      <td>375377</td>\n",
              "      <td>1</td>\n",
              "      <td>148</td>\n",
              "      <td>0</td>\n",
              "      <td>2020-09-23</td>\n",
              "      <td>FR</td>\n",
              "      <td>Organic</td>\n",
              "      <td>0</td>\n",
              "    </tr>\n",
              "    <tr>\n",
              "      <th>1</th>\n",
              "      <td>0</td>\n",
              "      <td>295842</td>\n",
              "      <td>1</td>\n",
              "      <td>67</td>\n",
              "      <td>0</td>\n",
              "      <td>2020-09-23</td>\n",
              "      <td>DE</td>\n",
              "      <td>Organic</td>\n",
              "      <td>0</td>\n",
              "    </tr>\n",
              "    <tr>\n",
              "      <th>2</th>\n",
              "      <td>0</td>\n",
              "      <td>229618</td>\n",
              "      <td>1</td>\n",
              "      <td>36</td>\n",
              "      <td>0</td>\n",
              "      <td>2020-09-23</td>\n",
              "      <td>DE</td>\n",
              "      <td>Organic</td>\n",
              "      <td>0</td>\n",
              "    </tr>\n",
              "    <tr>\n",
              "      <th>3</th>\n",
              "      <td>0</td>\n",
              "      <td>335545</td>\n",
              "      <td>1</td>\n",
              "      <td>116</td>\n",
              "      <td>0</td>\n",
              "      <td>2020-09-23</td>\n",
              "      <td>FR</td>\n",
              "      <td>Organic</td>\n",
              "      <td>0</td>\n",
              "    </tr>\n",
              "    <tr>\n",
              "      <th>4</th>\n",
              "      <td>0</td>\n",
              "      <td>300981</td>\n",
              "      <td>1</td>\n",
              "      <td>104</td>\n",
              "      <td>0</td>\n",
              "      <td>2020-09-23</td>\n",
              "      <td>FR</td>\n",
              "      <td>Organic</td>\n",
              "      <td>0</td>\n",
              "    </tr>\n",
              "  </tbody>\n",
              "</table>\n",
              "</div>"
            ],
            "text/plain": [
              "   days_after_registration  userid  ...   source  marketing_cost_per_user\n",
              "0                        0  375377  ...  Organic                        0\n",
              "1                        0  295842  ...  Organic                        0\n",
              "2                        0  229618  ...  Organic                        0\n",
              "3                        0  335545  ...  Organic                        0\n",
              "4                        0  300981  ...  Organic                        0\n",
              "\n",
              "[5 rows x 9 columns]"
            ]
          },
          "metadata": {
            "tags": []
          },
          "execution_count": 4
        }
      ]
    },
    {
      "cell_type": "code",
      "metadata": {
        "colab": {
          "base_uri": "https://localhost:8080/"
        },
        "id": "epWyGevbFlb3",
        "outputId": "20f25fb6-9edb-470c-d8bf-c231a0c0665a"
      },
      "source": [
        "data.shape"
      ],
      "execution_count": 5,
      "outputs": [
        {
          "output_type": "execute_result",
          "data": {
            "text/plain": [
              "(620657, 9)"
            ]
          },
          "metadata": {
            "tags": []
          },
          "execution_count": 5
        }
      ]
    },
    {
      "cell_type": "code",
      "metadata": {
        "id": "474JXOkSFoH2"
      },
      "source": [
        ""
      ],
      "execution_count": null,
      "outputs": []
    }
  ]
}